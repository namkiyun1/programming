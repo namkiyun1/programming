{
 "cells": [
  {
   "cell_type": "markdown",
   "metadata": {},
   "source": [
    "### 201984045 남기윤 프로그래밍 기말고사 대체 과제"
   ]
  },
  {
   "cell_type": "code",
   "execution_count": 1,
   "metadata": {},
   "outputs": [],
   "source": [
    "import pandas as pd\n",
    "import numpy as np"
   ]
  },
  {
   "cell_type": "code",
   "execution_count": 2,
   "metadata": {},
   "outputs": [],
   "source": [
    "df=pd.read_csv('Telco.csv')\n",
    "df"
   ]
  },
  {
   "cell_type": "markdown",
   "metadata": {},
   "source": [
    "\n",
    "Leave\t가입해지여부(1이면 해지) </br>\n",
    "MemberWeeks\t가입기간</br>\n",
    "NewContract\t가입갱신여부(1이면 갱신)</br>\n",
    "IsData\t데이터요금제사용여부(1이면 사용)</br>\n",
    "DataAmount\t데이터사용량(GB)</br>\n",
    "Callcenter\t고객센터전화량</br>\n",
    "CalMins\t월평균전화량(분)</br>\n",
    "CalCounts\t월평균전화수(횟수)</br>\n",
    "MonthlyFee\t월평균요금</br>\n",
    "OverFee\t초과요금</br>\n",
    "RoamingMin\t로밍시간(분)"
   ]
  },
  {
   "cell_type": "markdown",
   "metadata": {},
   "source": [
    "컬럼 값 이름 변경"
   ]
  },
  {
   "cell_type": "code",
   "execution_count": 3,
   "metadata": {},
   "outputs": [],
   "source": [
    "df.describe().T"
   ]
  },
  {
   "cell_type": "code",
   "execution_count": 4,
   "metadata": {},
   "outputs": [],
   "source": [
    "df.rename(columns={\n",
    "    'Leave':'가입해지여부(1이면 해지)',\n",
    "    'MemberWeeks':'가입기간',\n",
    "    'NewContract':'가입갱신여부(1이면 갱신)',\n",
    "    'IsData':'데이터요금제사용여부(1이면 사용)',\n",
    "    'DataAmount':'데이터사용량(GB)',\n",
    "    'Callcenter':'고객센터 전화량',\n",
    "    'CalMins':'월평균전화량(분)',\n",
    "    'CalCounts':'월평균전화수(횟수)',\n",
    "    'MonthlyFee':'월평균요금',\n",
    "    'OverFee':'초과요금',\n",
    "    'RoamingMin':'로밍시간(분)'\n",
    "},inplace=True)\n",
    "df"
   ]
  },
  {
   "cell_type": "markdown",
   "metadata": {},
   "source": [
    "null 값이 없는 것을 확인할 수 있다.\n",
    "그리고 데이터의 값을 줄여준다."
   ]
  },
  {
   "cell_type": "code",
   "execution_count": 5,
   "metadata": {},
   "outputs": [
    {
     "name": "stdout",
     "output_type": "stream",
     "text": [
      "<class 'pandas.core.frame.DataFrame'>\n",
      "RangeIndex: 3333 entries, 0 to 3332\n",
      "Data columns (total 11 columns):\n",
      " #   Column              Non-Null Count  Dtype  \n",
      "---  ------              --------------  -----  \n",
      " 0   가입해지여부(1이면 해지)      3333 non-null   int64  \n",
      " 1   가입기간                3333 non-null   int64  \n",
      " 2   가입갱신여부(1이면 갱신)      3333 non-null   int64  \n",
      " 3   데이터요금제사용여부(1이면 사용)  3333 non-null   int64  \n",
      " 4   데이터사용량(GB)          3333 non-null   float64\n",
      " 5   고객센터 전화량            3333 non-null   int64  \n",
      " 6   월평균전화량(분)           3333 non-null   float64\n",
      " 7   월평균전화수(횟수)          3333 non-null   int64  \n",
      " 8   월평균요금               3333 non-null   float64\n",
      " 9   초과요금                3333 non-null   float64\n",
      " 10  로밍시간(분)             3333 non-null   float64\n",
      "dtypes: float64(5), int64(6)\n",
      "memory usage: 286.6 KB\n"
     ]
    }
   ],
   "source": [
    "df.info()"
   ]
  },
  {
   "cell_type": "code",
   "execution_count": 6,
   "metadata": {},
   "outputs": [
    {
     "data": {
      "text/plain": [
       "가입해지여부(1이면 해지)        0\n",
       "가입기간                  0\n",
       "가입갱신여부(1이면 갱신)        0\n",
       "데이터요금제사용여부(1이면 사용)    0\n",
       "데이터사용량(GB)            0\n",
       "고객센터 전화량              0\n",
       "월평균전화량(분)             0\n",
       "월평균전화수(횟수)            0\n",
       "월평균요금                 0\n",
       "초과요금                  0\n",
       "로밍시간(분)               0\n",
       "dtype: int64"
      ]
     },
     "execution_count": 6,
     "metadata": {},
     "output_type": "execute_result"
    }
   ],
   "source": [
    "df.isna().sum()"
   ]
  },
  {
   "cell_type": "code",
   "execution_count": 7,
   "metadata": {},
   "outputs": [
    {
     "data": {
      "text/plain": [
       "iinfo(min=-32768, max=32767, dtype=int16)"
      ]
     },
     "execution_count": 7,
     "metadata": {},
     "output_type": "execute_result"
    }
   ],
   "source": [
    "np.iinfo('int16')"
   ]
  },
  {
   "cell_type": "code",
   "execution_count": 8,
   "metadata": {},
   "outputs": [
    {
     "data": {
      "text/plain": [
       "finfo(resolution=0.001, min=-6.55040e+04, max=6.55040e+04, dtype=float16)"
      ]
     },
     "execution_count": 8,
     "metadata": {},
     "output_type": "execute_result"
    }
   ],
   "source": [
    "np.finfo('float16')"
   ]
  },
  {
   "cell_type": "code",
   "execution_count": 9,
   "metadata": {},
   "outputs": [],
   "source": [
    "df=df.astype({\n",
    "    '가입해지여부(1이면 해지)':'category',\n",
    "    '가입기간':np.int16,\n",
    "    '가입갱신여부(1이면 갱신)':'category',\n",
    "     '데이터요금제사용여부(1이면 사용)':'category',\n",
    "    '고객센터 전화량':np.int16,\n",
    "    '월평균전화수(횟수)':np.int16,\n",
    "      '데이터사용량(GB)':np.float32,\n",
    "    '월평균전화량(분)':np.float32,\n",
    "     '월평균요금':np.float32,\n",
    "      '초과요금':np.float32,\n",
    "    '로밍시간(분)':np.float32\n",
    "    }\n",
    ")\n",
    "              "
   ]
  },
  {
   "cell_type": "markdown",
   "metadata": {},
   "source": [
    "286.6 kb -> 94.9kb로 줄어든 것을 알 수 있다."
   ]
  },
  {
   "cell_type": "code",
   "execution_count": 10,
   "metadata": {},
   "outputs": [
    {
     "name": "stdout",
     "output_type": "stream",
     "text": [
      "<class 'pandas.core.frame.DataFrame'>\n",
      "RangeIndex: 3333 entries, 0 to 3332\n",
      "Data columns (total 11 columns):\n",
      " #   Column              Non-Null Count  Dtype   \n",
      "---  ------              --------------  -----   \n",
      " 0   가입해지여부(1이면 해지)      3333 non-null   category\n",
      " 1   가입기간                3333 non-null   int16   \n",
      " 2   가입갱신여부(1이면 갱신)      3333 non-null   category\n",
      " 3   데이터요금제사용여부(1이면 사용)  3333 non-null   category\n",
      " 4   데이터사용량(GB)          3333 non-null   float32 \n",
      " 5   고객센터 전화량            3333 non-null   int16   \n",
      " 6   월평균전화량(분)           3333 non-null   float32 \n",
      " 7   월평균전화수(횟수)          3333 non-null   int16   \n",
      " 8   월평균요금               3333 non-null   float32 \n",
      " 9   초과요금                3333 non-null   float32 \n",
      " 10  로밍시간(분)             3333 non-null   float32 \n",
      "dtypes: category(3), float32(5), int16(3)\n",
      "memory usage: 94.9 KB\n"
     ]
    }
   ],
   "source": [
    "df.info()"
   ]
  },
  {
   "cell_type": "markdown",
   "metadata": {},
   "source": [
    "가입기간은 243일로 가장 많습니다.</br>\n",
    "데이터 사용량은 5기가로 제일 많습니다</br>\n",
    "월 평균 전화량은 약 6시간으로 제일 많습니다."
   ]
  },
  {
   "cell_type": "code",
   "execution_count": 11,
   "metadata": {},
   "outputs": [
    {
     "data": {
      "text/html": [
       "<div>\n",
       "<style scoped>\n",
       "    .dataframe tbody tr th:only-of-type {\n",
       "        vertical-align: middle;\n",
       "    }\n",
       "\n",
       "    .dataframe tbody tr th {\n",
       "        vertical-align: top;\n",
       "    }\n",
       "\n",
       "    .dataframe thead th {\n",
       "        text-align: right;\n",
       "    }\n",
       "</style>\n",
       "<table border=\"1\" class=\"dataframe\">\n",
       "  <thead>\n",
       "    <tr style=\"text-align: right;\">\n",
       "      <th></th>\n",
       "      <th>count</th>\n",
       "      <th>mean</th>\n",
       "      <th>std</th>\n",
       "      <th>min</th>\n",
       "      <th>25%</th>\n",
       "      <th>50%</th>\n",
       "      <th>75%</th>\n",
       "      <th>max</th>\n",
       "    </tr>\n",
       "  </thead>\n",
       "  <tbody>\n",
       "    <tr>\n",
       "      <th>가입기간</th>\n",
       "      <td>3333.0</td>\n",
       "      <td>101.064806</td>\n",
       "      <td>39.822106</td>\n",
       "      <td>1.0</td>\n",
       "      <td>74.000000</td>\n",
       "      <td>101.000000</td>\n",
       "      <td>127.000000</td>\n",
       "      <td>243.000000</td>\n",
       "    </tr>\n",
       "    <tr>\n",
       "      <th>데이터사용량(GB)</th>\n",
       "      <td>3333.0</td>\n",
       "      <td>0.816475</td>\n",
       "      <td>1.272670</td>\n",
       "      <td>0.0</td>\n",
       "      <td>0.000000</td>\n",
       "      <td>0.000000</td>\n",
       "      <td>1.780000</td>\n",
       "      <td>5.400000</td>\n",
       "    </tr>\n",
       "    <tr>\n",
       "      <th>고객센터 전화량</th>\n",
       "      <td>3333.0</td>\n",
       "      <td>1.562856</td>\n",
       "      <td>1.315491</td>\n",
       "      <td>0.0</td>\n",
       "      <td>1.000000</td>\n",
       "      <td>1.000000</td>\n",
       "      <td>2.000000</td>\n",
       "      <td>9.000000</td>\n",
       "    </tr>\n",
       "    <tr>\n",
       "      <th>월평균전화량(분)</th>\n",
       "      <td>3333.0</td>\n",
       "      <td>179.775131</td>\n",
       "      <td>54.467442</td>\n",
       "      <td>0.0</td>\n",
       "      <td>143.699997</td>\n",
       "      <td>179.399994</td>\n",
       "      <td>216.399994</td>\n",
       "      <td>350.799988</td>\n",
       "    </tr>\n",
       "    <tr>\n",
       "      <th>월평균전화수(횟수)</th>\n",
       "      <td>3333.0</td>\n",
       "      <td>100.435644</td>\n",
       "      <td>20.069084</td>\n",
       "      <td>0.0</td>\n",
       "      <td>87.000000</td>\n",
       "      <td>101.000000</td>\n",
       "      <td>114.000000</td>\n",
       "      <td>165.000000</td>\n",
       "    </tr>\n",
       "    <tr>\n",
       "      <th>월평균요금</th>\n",
       "      <td>3333.0</td>\n",
       "      <td>56.305111</td>\n",
       "      <td>16.426031</td>\n",
       "      <td>14.0</td>\n",
       "      <td>45.000000</td>\n",
       "      <td>53.500000</td>\n",
       "      <td>66.199997</td>\n",
       "      <td>111.300003</td>\n",
       "    </tr>\n",
       "    <tr>\n",
       "      <th>초과요금</th>\n",
       "      <td>3333.0</td>\n",
       "      <td>10.051488</td>\n",
       "      <td>2.535711</td>\n",
       "      <td>0.0</td>\n",
       "      <td>8.330000</td>\n",
       "      <td>10.070000</td>\n",
       "      <td>11.770000</td>\n",
       "      <td>18.190001</td>\n",
       "    </tr>\n",
       "    <tr>\n",
       "      <th>로밍시간(분)</th>\n",
       "      <td>3333.0</td>\n",
       "      <td>10.237291</td>\n",
       "      <td>2.791839</td>\n",
       "      <td>0.0</td>\n",
       "      <td>8.500000</td>\n",
       "      <td>10.300000</td>\n",
       "      <td>12.100000</td>\n",
       "      <td>20.000000</td>\n",
       "    </tr>\n",
       "  </tbody>\n",
       "</table>\n",
       "</div>"
      ],
      "text/plain": [
       "             count        mean        std   min         25%         50%  \\\n",
       "가입기간        3333.0  101.064806  39.822106   1.0   74.000000  101.000000   \n",
       "데이터사용량(GB)  3333.0    0.816475   1.272670   0.0    0.000000    0.000000   \n",
       "고객센터 전화량    3333.0    1.562856   1.315491   0.0    1.000000    1.000000   \n",
       "월평균전화량(분)   3333.0  179.775131  54.467442   0.0  143.699997  179.399994   \n",
       "월평균전화수(횟수)  3333.0  100.435644  20.069084   0.0   87.000000  101.000000   \n",
       "월평균요금       3333.0   56.305111  16.426031  14.0   45.000000   53.500000   \n",
       "초과요금        3333.0   10.051488   2.535711   0.0    8.330000   10.070000   \n",
       "로밍시간(분)     3333.0   10.237291   2.791839   0.0    8.500000   10.300000   \n",
       "\n",
       "                   75%         max  \n",
       "가입기간        127.000000  243.000000  \n",
       "데이터사용량(GB)    1.780000    5.400000  \n",
       "고객센터 전화량      2.000000    9.000000  \n",
       "월평균전화량(분)   216.399994  350.799988  \n",
       "월평균전화수(횟수)  114.000000  165.000000  \n",
       "월평균요금        66.199997  111.300003  \n",
       "초과요금         11.770000   18.190001  \n",
       "로밍시간(분)      12.100000   20.000000  "
      ]
     },
     "execution_count": 11,
     "metadata": {},
     "output_type": "execute_result"
    }
   ],
   "source": [
    "df.describe().T"
   ]
  },
  {
   "cell_type": "markdown",
   "metadata": {},
   "source": [
    "월평균요금이 제일 높게 나왔을 때 가입기간, 데이터 사용량, 월평균 전화량, 월평균전화수 중에 </br>\n",
    "어떤 값이 많아야 월 평균요금이 높게 나오는지 확인을 해봤는데 특정하게 값이 커야만 월평균요금이</br>\n",
    "높게 나오지 않고 각각 균등하게 많아야 많이 나왔다 "
   ]
  },
  {
   "cell_type": "code",
   "execution_count": 12,
   "metadata": {},
   "outputs": [
    {
     "data": {
      "text/html": [
       "<div>\n",
       "<style scoped>\n",
       "    .dataframe tbody tr th:only-of-type {\n",
       "        vertical-align: middle;\n",
       "    }\n",
       "\n",
       "    .dataframe tbody tr th {\n",
       "        vertical-align: top;\n",
       "    }\n",
       "\n",
       "    .dataframe thead th {\n",
       "        text-align: right;\n",
       "    }\n",
       "</style>\n",
       "<table border=\"1\" class=\"dataframe\">\n",
       "  <thead>\n",
       "    <tr style=\"text-align: right;\">\n",
       "      <th></th>\n",
       "      <th>가입기간</th>\n",
       "      <th>데이터사용량(GB)</th>\n",
       "      <th>월평균전화수(횟수)</th>\n",
       "      <th>월평균요금</th>\n",
       "      <th>월평균전화량(분)</th>\n",
       "      <th>초과요금</th>\n",
       "      <th>로밍시간(분)</th>\n",
       "    </tr>\n",
       "  </thead>\n",
       "  <tbody>\n",
       "    <tr>\n",
       "      <th>2122</th>\n",
       "      <td>69</td>\n",
       "      <td>4.43</td>\n",
       "      <td>78</td>\n",
       "      <td>111.300003</td>\n",
       "      <td>268.799988</td>\n",
       "      <td>12.33</td>\n",
       "      <td>16.400000</td>\n",
       "    </tr>\n",
       "    <tr>\n",
       "      <th>115</th>\n",
       "      <td>36</td>\n",
       "      <td>5.40</td>\n",
       "      <td>89</td>\n",
       "      <td>110.000000</td>\n",
       "      <td>196.800003</td>\n",
       "      <td>12.75</td>\n",
       "      <td>20.000000</td>\n",
       "    </tr>\n",
       "    <tr>\n",
       "      <th>670</th>\n",
       "      <td>32</td>\n",
       "      <td>4.40</td>\n",
       "      <td>109</td>\n",
       "      <td>110.000000</td>\n",
       "      <td>266.700012</td>\n",
       "      <td>11.62</td>\n",
       "      <td>16.299999</td>\n",
       "    </tr>\n",
       "    <tr>\n",
       "      <th>1355</th>\n",
       "      <td>50</td>\n",
       "      <td>3.67</td>\n",
       "      <td>93</td>\n",
       "      <td>108.699997</td>\n",
       "      <td>302.700012</td>\n",
       "      <td>12.03</td>\n",
       "      <td>13.600000</td>\n",
       "    </tr>\n",
       "    <tr>\n",
       "      <th>1821</th>\n",
       "      <td>123</td>\n",
       "      <td>4.16</td>\n",
       "      <td>99</td>\n",
       "      <td>108.599998</td>\n",
       "      <td>270.399994</td>\n",
       "      <td>12.26</td>\n",
       "      <td>15.400000</td>\n",
       "    </tr>\n",
       "  </tbody>\n",
       "</table>\n",
       "</div>"
      ],
      "text/plain": [
       "      가입기간  데이터사용량(GB)  월평균전화수(횟수)       월평균요금   월평균전화량(분)   초과요금    로밍시간(분)\n",
       "2122    69        4.43          78  111.300003  268.799988  12.33  16.400000\n",
       "115     36        5.40          89  110.000000  196.800003  12.75  20.000000\n",
       "670     32        4.40         109  110.000000  266.700012  11.62  16.299999\n",
       "1355    50        3.67          93  108.699997  302.700012  12.03  13.600000\n",
       "1821   123        4.16          99  108.599998  270.399994  12.26  15.400000"
      ]
     },
     "execution_count": 12,
     "metadata": {},
     "output_type": "execute_result"
    }
   ],
   "source": [
    "#'데이터사용량(GB)','월평균전화량(분)','월평균전화수(횟수)'\n",
    "top=(\n",
    "df[['가입기간','데이터사용량(GB)','월평균전화수(횟수)','월평균요금','월평균전화량(분)','초과요금','로밍시간(분)']]\n",
    "    .sort_values(['월평균요금'],ascending=False)\n",
    ").head()\n",
    "top"
   ]
  },
  {
   "cell_type": "code",
   "execution_count": 13,
   "metadata": {},
   "outputs": [
    {
     "data": {
      "text/html": [
       "<div>\n",
       "<style scoped>\n",
       "    .dataframe tbody tr th:only-of-type {\n",
       "        vertical-align: middle;\n",
       "    }\n",
       "\n",
       "    .dataframe tbody tr th {\n",
       "        vertical-align: top;\n",
       "    }\n",
       "\n",
       "    .dataframe thead th {\n",
       "        text-align: right;\n",
       "    }\n",
       "</style>\n",
       "<table border=\"1\" class=\"dataframe\">\n",
       "  <thead>\n",
       "    <tr style=\"text-align: right;\">\n",
       "      <th></th>\n",
       "      <th>가입기간</th>\n",
       "      <th>데이터사용량(GB)</th>\n",
       "      <th>월평균전화수(횟수)</th>\n",
       "      <th>월평균요금</th>\n",
       "      <th>월평균전화량(분)</th>\n",
       "      <th>초과요금</th>\n",
       "      <th>로밍시간(분)</th>\n",
       "    </tr>\n",
       "  </thead>\n",
       "  <tbody>\n",
       "    <tr>\n",
       "      <th>1번째로 많은 사람(가입기간:69)</th>\n",
       "      <td>69</td>\n",
       "      <td>4.43</td>\n",
       "      <td>78</td>\n",
       "      <td>111.300003</td>\n",
       "      <td>268.799988</td>\n",
       "      <td>12.33</td>\n",
       "      <td>16.400000</td>\n",
       "    </tr>\n",
       "    <tr>\n",
       "      <th>2번째로 많은 사람(가입기간:36)</th>\n",
       "      <td>36</td>\n",
       "      <td>5.40</td>\n",
       "      <td>89</td>\n",
       "      <td>110.000000</td>\n",
       "      <td>196.800003</td>\n",
       "      <td>12.75</td>\n",
       "      <td>20.000000</td>\n",
       "    </tr>\n",
       "    <tr>\n",
       "      <th>3번째로 많은 사람(가입기간:32)</th>\n",
       "      <td>32</td>\n",
       "      <td>4.40</td>\n",
       "      <td>109</td>\n",
       "      <td>110.000000</td>\n",
       "      <td>266.700012</td>\n",
       "      <td>11.62</td>\n",
       "      <td>16.299999</td>\n",
       "    </tr>\n",
       "    <tr>\n",
       "      <th>4번째로 많은 사람(가입기간:50)</th>\n",
       "      <td>50</td>\n",
       "      <td>3.67</td>\n",
       "      <td>93</td>\n",
       "      <td>108.699997</td>\n",
       "      <td>302.700012</td>\n",
       "      <td>12.03</td>\n",
       "      <td>13.600000</td>\n",
       "    </tr>\n",
       "    <tr>\n",
       "      <th>5번째로 많은 사람(가입기간:123)</th>\n",
       "      <td>123</td>\n",
       "      <td>4.16</td>\n",
       "      <td>99</td>\n",
       "      <td>108.599998</td>\n",
       "      <td>270.399994</td>\n",
       "      <td>12.26</td>\n",
       "      <td>15.400000</td>\n",
       "    </tr>\n",
       "  </tbody>\n",
       "</table>\n",
       "</div>"
      ],
      "text/plain": [
       "                      가입기간  데이터사용량(GB)  월평균전화수(횟수)       월평균요금   월평균전화량(분)  \\\n",
       "1번째로 많은 사람(가입기간:69)     69        4.43          78  111.300003  268.799988   \n",
       "2번째로 많은 사람(가입기간:36)     36        5.40          89  110.000000  196.800003   \n",
       "3번째로 많은 사람(가입기간:32)     32        4.40         109  110.000000  266.700012   \n",
       "4번째로 많은 사람(가입기간:50)     50        3.67          93  108.699997  302.700012   \n",
       "5번째로 많은 사람(가입기간:123)   123        4.16          99  108.599998  270.399994   \n",
       "\n",
       "                       초과요금    로밍시간(분)  \n",
       "1번째로 많은 사람(가입기간:69)   12.33  16.400000  \n",
       "2번째로 많은 사람(가입기간:36)   12.75  20.000000  \n",
       "3번째로 많은 사람(가입기간:32)   11.62  16.299999  \n",
       "4번째로 많은 사람(가입기간:50)   12.03  13.600000  \n",
       "5번째로 많은 사람(가입기간:123)  12.26  15.400000  "
      ]
     },
     "execution_count": 13,
     "metadata": {},
     "output_type": "execute_result"
    }
   ],
   "source": [
    "top.rename(index={2122:'1번째로 많은 사람(가입기간:69)',115:'2번째로 많은 사람(가입기간:36)',670:'3번째로 많은 사람(가입기간:32)',1355:'4번째로 많은 사람(가입기간:50)',1821:'5번째로 많은 사람(가입기간:123)'},inplace=True)\n",
    "top"
   ]
  },
  {
   "cell_type": "markdown",
   "metadata": {},
   "source": [
    "따라서 월 평균 요금을 많은 순서대로 출력 하였다. 정확히 월 평균이 왜 높은지 알 수가 없다."
   ]
  },
  {
   "cell_type": "code",
   "execution_count": 14,
   "metadata": {},
   "outputs": [
    {
     "name": "stderr",
     "output_type": "stream",
     "text": [
      "In C:\\Users\\kiyun\\anaconda3\\lib\\site-packages\\matplotlib\\mpl-data\\stylelib\\_classic_test.mplstyle: \n",
      "The text.latex.preview rcparam was deprecated in Matplotlib 3.3 and will be removed two minor releases later.\n",
      "In C:\\Users\\kiyun\\anaconda3\\lib\\site-packages\\matplotlib\\mpl-data\\stylelib\\_classic_test.mplstyle: \n",
      "The mathtext.fallback_to_cm rcparam was deprecated in Matplotlib 3.3 and will be removed two minor releases later.\n",
      "In C:\\Users\\kiyun\\anaconda3\\lib\\site-packages\\matplotlib\\mpl-data\\stylelib\\_classic_test.mplstyle: Support for setting the 'mathtext.fallback_to_cm' rcParam is deprecated since 3.3 and will be removed two minor releases later; use 'mathtext.fallback : 'cm' instead.\n",
      "In C:\\Users\\kiyun\\anaconda3\\lib\\site-packages\\matplotlib\\mpl-data\\stylelib\\_classic_test.mplstyle: \n",
      "The validate_bool_maybe_none function was deprecated in Matplotlib 3.3 and will be removed two minor releases later.\n",
      "In C:\\Users\\kiyun\\anaconda3\\lib\\site-packages\\matplotlib\\mpl-data\\stylelib\\_classic_test.mplstyle: \n",
      "The savefig.jpeg_quality rcparam was deprecated in Matplotlib 3.3 and will be removed two minor releases later.\n",
      "In C:\\Users\\kiyun\\anaconda3\\lib\\site-packages\\matplotlib\\mpl-data\\stylelib\\_classic_test.mplstyle: \n",
      "The keymap.all_axes rcparam was deprecated in Matplotlib 3.3 and will be removed two minor releases later.\n",
      "In C:\\Users\\kiyun\\anaconda3\\lib\\site-packages\\matplotlib\\mpl-data\\stylelib\\_classic_test.mplstyle: \n",
      "The animation.avconv_path rcparam was deprecated in Matplotlib 3.3 and will be removed two minor releases later.\n",
      "In C:\\Users\\kiyun\\anaconda3\\lib\\site-packages\\matplotlib\\mpl-data\\stylelib\\_classic_test.mplstyle: \n",
      "The animation.avconv_args rcparam was deprecated in Matplotlib 3.3 and will be removed two minor releases later.\n"
     ]
    },
    {
     "data": {
      "image/png": "[encoded data removed]",
      "text/plain": [
       "<Figure size 2160x1080 with 1 Axes>"
      ]
     },
     "metadata": {
      "needs_background": "light"
     },
     "output_type": "display_data"
    }
   ],
   "source": [
    "import matplotlib.pyplot as plt #표 출력하기 위해 임포트 해줍니다\n",
    "\n",
    "plt.rc('font', family=\"Malgun Gothic\",size='20')#이 부분을 안 적어주면 글씨가 깨지는 현상 발생.\n",
    "top.plot(kind='barh',fontsize=\"15\",figsize=(30,15),title='월 평균이 높은 5명 출력하기')# 꺾은선 그래프로 출력합니다\n",
    "\n",
    "plt.xlabel('월 평균요금이 많은사람',fontsize=\"15\")#아래 x축 제목 표시\n",
    "plt.ylabel('인구 수',fontsize=\"15\")#아래 y축 제목 표시\n",
    "\n",
    "plt.show()"
   ]
  },
  {
   "cell_type": "markdown",
   "metadata": {},
   "source": [
    "월 평균 요금 상위 5개만 출력을 한다 보기 쉽게 그래프로 비교를 해본다.</br>\n",
    "월평균이 왜 높은지를 자세하게 보겠습니다."
   ]
  },
  {
   "cell_type": "markdown",
   "metadata": {},
   "source": [
    "데이터 사용량과 월 평균요금의 관계"
   ]
  },
  {
   "cell_type": "code",
   "execution_count": 15,
   "metadata": {},
   "outputs": [
    {
     "ename": "AttributeError",
     "evalue": "'DataFrame' object has no attribute '데이터사용량_GB'",
     "output_type": "error",
     "traceback": [
      "\u001b[1;31m---------------------------------------------------------------------------\u001b[0m",
      "\u001b[1;31mAttributeError\u001b[0m                            Traceback (most recent call last)",
      "\u001b[1;32m<ipython-input-15-7ccd1fd8d2d1>\u001b[0m in \u001b[0;36m<module>\u001b[1;34m\u001b[0m\n\u001b[1;32m----> 1\u001b[1;33m \u001b[0mtop\u001b[0m\u001b[1;33m.\u001b[0m\u001b[0m월평균요금\u001b[0m\u001b[1;33m.\u001b[0m\u001b[0mcov\u001b[0m\u001b[1;33m(\u001b[0m\u001b[0mtop\u001b[0m\u001b[1;33m.\u001b[0m\u001b[0m데이터사용량_GB\u001b[0m\u001b[1;33m)\u001b[0m\u001b[1;33m\u001b[0m\u001b[1;33m\u001b[0m\u001b[0m\n\u001b[0m",
      "\u001b[1;32m~\\anaconda3\\lib\\site-packages\\pandas\\core\\generic.py\u001b[0m in \u001b[0;36m__getattr__\u001b[1;34m(self, name)\u001b[0m\n\u001b[0;32m   5463\u001b[0m             \u001b[1;32mif\u001b[0m \u001b[0mself\u001b[0m\u001b[1;33m.\u001b[0m\u001b[0m_info_axis\u001b[0m\u001b[1;33m.\u001b[0m\u001b[0m_can_hold_identifiers_and_holds_name\u001b[0m\u001b[1;33m(\u001b[0m\u001b[0mname\u001b[0m\u001b[1;33m)\u001b[0m\u001b[1;33m:\u001b[0m\u001b[1;33m\u001b[0m\u001b[1;33m\u001b[0m\u001b[0m\n\u001b[0;32m   5464\u001b[0m                 \u001b[1;32mreturn\u001b[0m \u001b[0mself\u001b[0m\u001b[1;33m[\u001b[0m\u001b[0mname\u001b[0m\u001b[1;33m]\u001b[0m\u001b[1;33m\u001b[0m\u001b[1;33m\u001b[0m\u001b[0m\n\u001b[1;32m-> 5465\u001b[1;33m             \u001b[1;32mreturn\u001b[0m \u001b[0mobject\u001b[0m\u001b[1;33m.\u001b[0m\u001b[0m__getattribute__\u001b[0m\u001b[1;33m(\u001b[0m\u001b[0mself\u001b[0m\u001b[1;33m,\u001b[0m \u001b[0mname\u001b[0m\u001b[1;33m)\u001b[0m\u001b[1;33m\u001b[0m\u001b[1;33m\u001b[0m\u001b[0m\n\u001b[0m\u001b[0;32m   5466\u001b[0m \u001b[1;33m\u001b[0m\u001b[0m\n\u001b[0;32m   5467\u001b[0m     \u001b[1;32mdef\u001b[0m \u001b[0m__setattr__\u001b[0m\u001b[1;33m(\u001b[0m\u001b[0mself\u001b[0m\u001b[1;33m,\u001b[0m \u001b[0mname\u001b[0m\u001b[1;33m:\u001b[0m \u001b[0mstr\u001b[0m\u001b[1;33m,\u001b[0m \u001b[0mvalue\u001b[0m\u001b[1;33m)\u001b[0m \u001b[1;33m->\u001b[0m \u001b[1;32mNone\u001b[0m\u001b[1;33m:\u001b[0m\u001b[1;33m\u001b[0m\u001b[1;33m\u001b[0m\u001b[0m\n",
      "\u001b[1;31mAttributeError\u001b[0m: 'DataFrame' object has no attribute '데이터사용량_GB'"
     ]
    }
   ],
   "source": [
    "top.월평균요금.cov(top.데이터사용량_GB)"
   ]
  },
  {
   "cell_type": "markdown",
   "metadata": {},
   "source": [
    "상관관계를 하려고 컬럼 이름을 써주었는데 컬럼의 이름에서 오류가 떴다\n",
    "이 부분에서 괄호()이 부분을 _(언더바)로 만들어서 다시 실행을 해보겠습니다"
   ]
  },
  {
   "cell_type": "code",
   "execution_count": 16,
   "metadata": {},
   "outputs": [
    {
     "data": {
      "text/plain": [
       "0         가입기간\n",
       "1    데이터사용량_GB\n",
       "2    월평균전화수_횟수\n",
       "3        월평균요금\n",
       "4     월평균전화량_분\n",
       "5         초과요금\n",
       "6       로밍시간_분\n",
       "dtype: object"
      ]
     },
     "execution_count": 16,
     "metadata": {},
     "output_type": "execute_result"
    }
   ],
   "source": [
    "def shorten(col):\n",
    "    return(\n",
    "        str(col).replace('(','_')\n",
    "        .replace(')','')\n",
    "    )\n",
    "top=top.rename(columns=shorten)\n",
    "pd.Series(top.columns)"
   ]
  },
  {
   "cell_type": "markdown",
   "metadata": {},
   "source": [
    "실행이 되는 것을 알 수 있습니다."
   ]
  },
  {
   "cell_type": "code",
   "execution_count": 17,
   "metadata": {},
   "outputs": [
    {
     "data": {
      "text/plain": [
       "0.33520064477906997"
      ]
     },
     "execution_count": 17,
     "metadata": {},
     "output_type": "execute_result"
    }
   ],
   "source": [
    "top.월평균요금.cov(top.데이터사용량_GB)"
   ]
  },
  {
   "cell_type": "code",
   "execution_count": 18,
   "metadata": {},
   "outputs": [
    {
     "data": {
      "text/plain": [
       "-14.279534576431614"
      ]
     },
     "execution_count": 18,
     "metadata": {},
     "output_type": "execute_result"
    }
   ],
   "source": [
    "top.월평균전화량_분.cov(top.월평균요금)"
   ]
  },
  {
   "cell_type": "code",
   "execution_count": 19,
   "metadata": {},
   "outputs": [
    {
     "data": {
      "text/plain": [
       "-0.33034004096338804"
      ]
     },
     "execution_count": 19,
     "metadata": {},
     "output_type": "execute_result"
    }
   ],
   "source": [
    "top.월평균전화량_분.corr(top.월평균요금)"
   ]
  },
  {
   "cell_type": "markdown",
   "metadata": {},
   "source": [
    "표준화해서 비교 상관계수 각각 단위로 나와있음."
   ]
  },
  {
   "cell_type": "code",
   "execution_count": 20,
   "metadata": {},
   "outputs": [
    {
     "data": {
      "text/plain": [
       "0.47792276168846376"
      ]
     },
     "execution_count": 20,
     "metadata": {},
     "output_type": "execute_result"
    }
   ],
   "source": [
    "top.월평균요금.corr(top.데이터사용량_GB)"
   ]
  },
  {
   "cell_type": "code",
   "execution_count": 21,
   "metadata": {},
   "outputs": [
    {
     "data": {
      "text/html": [
       "<div>\n",
       "<style scoped>\n",
       "    .dataframe tbody tr th:only-of-type {\n",
       "        vertical-align: middle;\n",
       "    }\n",
       "\n",
       "    .dataframe tbody tr th {\n",
       "        vertical-align: top;\n",
       "    }\n",
       "\n",
       "    .dataframe thead th {\n",
       "        text-align: right;\n",
       "    }\n",
       "</style>\n",
       "<table border=\"1\" class=\"dataframe\">\n",
       "  <thead>\n",
       "    <tr style=\"text-align: right;\">\n",
       "      <th></th>\n",
       "      <th>월평균요금</th>\n",
       "      <th>데이터사용량_GB</th>\n",
       "      <th>월평균전화량_분</th>\n",
       "      <th>월평균전화수_횟수</th>\n",
       "    </tr>\n",
       "  </thead>\n",
       "  <tbody>\n",
       "    <tr>\n",
       "      <th>월평균요금</th>\n",
       "      <td>1.000000</td>\n",
       "      <td>0.477923</td>\n",
       "      <td>-0.330340</td>\n",
       "      <td>-0.527818</td>\n",
       "    </tr>\n",
       "    <tr>\n",
       "      <th>데이터사용량_GB</th>\n",
       "      <td>0.477923</td>\n",
       "      <td>1.000000</td>\n",
       "      <td>-0.986037</td>\n",
       "      <td>-0.203864</td>\n",
       "    </tr>\n",
       "    <tr>\n",
       "      <th>월평균전화량_분</th>\n",
       "      <td>-0.330340</td>\n",
       "      <td>-0.986037</td>\n",
       "      <td>1.000000</td>\n",
       "      <td>0.160287</td>\n",
       "    </tr>\n",
       "    <tr>\n",
       "      <th>월평균전화수_횟수</th>\n",
       "      <td>-0.527818</td>\n",
       "      <td>-0.203864</td>\n",
       "      <td>0.160287</td>\n",
       "      <td>1.000000</td>\n",
       "    </tr>\n",
       "  </tbody>\n",
       "</table>\n",
       "</div>"
      ],
      "text/plain": [
       "              월평균요금  데이터사용량_GB  월평균전화량_분  월평균전화수_횟수\n",
       "월평균요금      1.000000   0.477923 -0.330340  -0.527818\n",
       "데이터사용량_GB  0.477923   1.000000 -0.986037  -0.203864\n",
       "월평균전화량_분  -0.330340  -0.986037  1.000000   0.160287\n",
       "월평균전화수_횟수 -0.527818  -0.203864  0.160287   1.000000"
      ]
     },
     "execution_count": 21,
     "metadata": {},
     "output_type": "execute_result"
    }
   ],
   "source": [
    "top[['월평균요금','데이터사용량_GB','월평균전화량_분','월평균전화수_횟수',]].corr()"
   ]
  },
  {
   "cell_type": "markdown",
   "metadata": {},
   "source": [
    "데이터 사용량이 높을 수록 월 평균 요금은 증가한다"
   ]
  },
  {
   "cell_type": "code",
   "execution_count": 22,
   "metadata": {},
   "outputs": [
    {
     "name": "stderr",
     "output_type": "stream",
     "text": [
      "C:\\Users\\kiyun\\anaconda3\\lib\\site-packages\\matplotlib\\backends\\backend_agg.py:240: RuntimeWarning: Glyph 8722 missing from current font.\n",
      "  font.set_text(s, 0.0, flags=flags)\n",
      "C:\\Users\\kiyun\\anaconda3\\lib\\site-packages\\matplotlib\\backends\\backend_agg.py:203: RuntimeWarning: Glyph 8722 missing from current font.\n",
      "  font.set_text(s, 0, flags=flags)\n"
     ]
    },
    {
     "data": {
      "text/plain": [
       "<AxesSubplot:>"
      ]
     },
     "execution_count": 22,
     "metadata": {},
     "output_type": "execute_result"
    },
    {
     "data": {
      "image/png": "[encoded data removed]",
      "text/plain": [
       "<Figure size 576x576 with 2 Axes>"
      ]
     },
     "metadata": {
      "needs_background": "light"
     },
     "output_type": "display_data"
    }
   ],
   "source": [
    "import seaborn as sns\n",
    "fig,ax = plt.subplots(figsize=(8,8))\n",
    "corr=top[['월평균요금','데이터사용량_GB','월평균전화량_분','월평균전화수_횟수']].corr()\n",
    "\n",
    "mask=np.zeros_like(corr,dtype=np.bool)\n",
    "mask[np.triu_indices_from(mask)]=True\n",
    "sns.heatmap(\n",
    "    corr,\n",
    "    mask=mask,\n",
    "    fmt='.2f',\n",
    "    annot=True,\n",
    "    ax=ax,\n",
    "    cmap='RdBu',\n",
    "    vmin=-1,\n",
    "    vmax=1,\n",
    "    square=True\n",
    ")"
   ]
  },
  {
   "cell_type": "markdown",
   "metadata": {},
   "source": [
    "위에 head로 5개만 출력한 것을 다시 불러와서 전체적으로 데이터가 보여지게 출력."
   ]
  },
  {
   "cell_type": "code",
   "execution_count": 23,
   "metadata": {},
   "outputs": [
    {
     "data": {
      "text/html": [
       "<div>\n",
       "<style scoped>\n",
       "    .dataframe tbody tr th:only-of-type {\n",
       "        vertical-align: middle;\n",
       "    }\n",
       "\n",
       "    .dataframe tbody tr th {\n",
       "        vertical-align: top;\n",
       "    }\n",
       "\n",
       "    .dataframe thead th {\n",
       "        text-align: right;\n",
       "    }\n",
       "</style>\n",
       "<table border=\"1\" class=\"dataframe\">\n",
       "  <thead>\n",
       "    <tr style=\"text-align: right;\">\n",
       "      <th></th>\n",
       "      <th>가입기간</th>\n",
       "      <th>데이터사용량(GB)</th>\n",
       "      <th>월평균전화수(횟수)</th>\n",
       "      <th>월평균요금</th>\n",
       "      <th>월평균전화량(분)</th>\n",
       "      <th>초과요금</th>\n",
       "      <th>로밍시간(분)</th>\n",
       "    </tr>\n",
       "  </thead>\n",
       "  <tbody>\n",
       "    <tr>\n",
       "      <th>2122</th>\n",
       "      <td>69</td>\n",
       "      <td>4.43</td>\n",
       "      <td>78</td>\n",
       "      <td>111.300003</td>\n",
       "      <td>268.799988</td>\n",
       "      <td>12.33</td>\n",
       "      <td>16.400000</td>\n",
       "    </tr>\n",
       "    <tr>\n",
       "      <th>115</th>\n",
       "      <td>36</td>\n",
       "      <td>5.40</td>\n",
       "      <td>89</td>\n",
       "      <td>110.000000</td>\n",
       "      <td>196.800003</td>\n",
       "      <td>12.75</td>\n",
       "      <td>20.000000</td>\n",
       "    </tr>\n",
       "    <tr>\n",
       "      <th>670</th>\n",
       "      <td>32</td>\n",
       "      <td>4.40</td>\n",
       "      <td>109</td>\n",
       "      <td>110.000000</td>\n",
       "      <td>266.700012</td>\n",
       "      <td>11.62</td>\n",
       "      <td>16.299999</td>\n",
       "    </tr>\n",
       "    <tr>\n",
       "      <th>1355</th>\n",
       "      <td>50</td>\n",
       "      <td>3.67</td>\n",
       "      <td>93</td>\n",
       "      <td>108.699997</td>\n",
       "      <td>302.700012</td>\n",
       "      <td>12.03</td>\n",
       "      <td>13.600000</td>\n",
       "    </tr>\n",
       "    <tr>\n",
       "      <th>1821</th>\n",
       "      <td>123</td>\n",
       "      <td>4.16</td>\n",
       "      <td>99</td>\n",
       "      <td>108.599998</td>\n",
       "      <td>270.399994</td>\n",
       "      <td>12.26</td>\n",
       "      <td>15.400000</td>\n",
       "    </tr>\n",
       "    <tr>\n",
       "      <th>...</th>\n",
       "      <td>...</td>\n",
       "      <td>...</td>\n",
       "      <td>...</td>\n",
       "      <td>...</td>\n",
       "      <td>...</td>\n",
       "      <td>...</td>\n",
       "      <td>...</td>\n",
       "    </tr>\n",
       "    <tr>\n",
       "      <th>2252</th>\n",
       "      <td>148</td>\n",
       "      <td>0.00</td>\n",
       "      <td>121</td>\n",
       "      <td>17.000000</td>\n",
       "      <td>17.600000</td>\n",
       "      <td>8.09</td>\n",
       "      <td>10.600000</td>\n",
       "    </tr>\n",
       "    <tr>\n",
       "      <th>2753</th>\n",
       "      <td>134</td>\n",
       "      <td>0.00</td>\n",
       "      <td>86</td>\n",
       "      <td>16.000000</td>\n",
       "      <td>7.800000</td>\n",
       "      <td>8.57</td>\n",
       "      <td>12.900000</td>\n",
       "    </tr>\n",
       "    <tr>\n",
       "      <th>2859</th>\n",
       "      <td>87</td>\n",
       "      <td>0.00</td>\n",
       "      <td>125</td>\n",
       "      <td>16.000000</td>\n",
       "      <td>58.000000</td>\n",
       "      <td>3.38</td>\n",
       "      <td>11.500000</td>\n",
       "    </tr>\n",
       "    <tr>\n",
       "      <th>1986</th>\n",
       "      <td>70</td>\n",
       "      <td>0.27</td>\n",
       "      <td>100</td>\n",
       "      <td>15.700000</td>\n",
       "      <td>7.900000</td>\n",
       "      <td>6.82</td>\n",
       "      <td>12.100000</td>\n",
       "    </tr>\n",
       "    <tr>\n",
       "      <th>1345</th>\n",
       "      <td>98</td>\n",
       "      <td>0.00</td>\n",
       "      <td>0</td>\n",
       "      <td>14.000000</td>\n",
       "      <td>0.000000</td>\n",
       "      <td>7.98</td>\n",
       "      <td>6.800000</td>\n",
       "    </tr>\n",
       "  </tbody>\n",
       "</table>\n",
       "<p>3333 rows × 7 columns</p>\n",
       "</div>"
      ],
      "text/plain": [
       "      가입기간  데이터사용량(GB)  월평균전화수(횟수)       월평균요금   월평균전화량(분)   초과요금    로밍시간(분)\n",
       "2122    69        4.43          78  111.300003  268.799988  12.33  16.400000\n",
       "115     36        5.40          89  110.000000  196.800003  12.75  20.000000\n",
       "670     32        4.40         109  110.000000  266.700012  11.62  16.299999\n",
       "1355    50        3.67          93  108.699997  302.700012  12.03  13.600000\n",
       "1821   123        4.16          99  108.599998  270.399994  12.26  15.400000\n",
       "...    ...         ...         ...         ...         ...    ...        ...\n",
       "2252   148        0.00         121   17.000000   17.600000   8.09  10.600000\n",
       "2753   134        0.00          86   16.000000    7.800000   8.57  12.900000\n",
       "2859    87        0.00         125   16.000000   58.000000   3.38  11.500000\n",
       "1986    70        0.27         100   15.700000    7.900000   6.82  12.100000\n",
       "1345    98        0.00           0   14.000000    0.000000   7.98   6.800000\n",
       "\n",
       "[3333 rows x 7 columns]"
      ]
     },
     "execution_count": 23,
     "metadata": {},
     "output_type": "execute_result"
    }
   ],
   "source": [
    "top2=(\n",
    "df[['가입기간','데이터사용량(GB)','월평균전화수(횟수)','월평균요금','월평균전화량(분)','초과요금','로밍시간(분)']]\n",
    "    .sort_values(['월평균요금'],ascending=False)\n",
    ")\n",
    "top2"
   ]
  },
  {
   "cell_type": "markdown",
   "metadata": {},
   "source": [
    "다시 _로 바꿔줍니다."
   ]
  },
  {
   "cell_type": "code",
   "execution_count": 24,
   "metadata": {},
   "outputs": [
    {
     "data": {
      "text/plain": [
       "0         가입기간\n",
       "1    데이터사용량_GB\n",
       "2    월평균전화수_횟수\n",
       "3        월평균요금\n",
       "4     월평균전화량_분\n",
       "5         초과요금\n",
       "6       로밍시간_분\n",
       "dtype: object"
      ]
     },
     "execution_count": 24,
     "metadata": {},
     "output_type": "execute_result"
    }
   ],
   "source": [
    "def shorten(col):\n",
    "    return(\n",
    "        str(col).replace('(','_')\n",
    "        .replace(')','')\n",
    "    )\n",
    "top2=top2.rename(columns=shorten)\n",
    "pd.Series(top2.columns)"
   ]
  },
  {
   "cell_type": "code",
   "execution_count": 25,
   "metadata": {},
   "outputs": [
    {
     "data": {
      "text/html": [
       "<div>\n",
       "<style scoped>\n",
       "    .dataframe tbody tr th:only-of-type {\n",
       "        vertical-align: middle;\n",
       "    }\n",
       "\n",
       "    .dataframe tbody tr th {\n",
       "        vertical-align: top;\n",
       "    }\n",
       "\n",
       "    .dataframe thead th {\n",
       "        text-align: right;\n",
       "    }\n",
       "</style>\n",
       "<table border=\"1\" class=\"dataframe\">\n",
       "  <thead>\n",
       "    <tr style=\"text-align: right;\">\n",
       "      <th></th>\n",
       "      <th>가입기간</th>\n",
       "      <th>데이터사용량_GB</th>\n",
       "      <th>월평균전화수_횟수</th>\n",
       "      <th>월평균전화량_분</th>\n",
       "      <th>월평균요금</th>\n",
       "      <th>초과요금</th>\n",
       "      <th>로밍시간_분</th>\n",
       "    </tr>\n",
       "  </thead>\n",
       "  <tbody>\n",
       "    <tr>\n",
       "      <th>2122</th>\n",
       "      <td>69</td>\n",
       "      <td>4.43</td>\n",
       "      <td>78</td>\n",
       "      <td>268.799988</td>\n",
       "      <td>111.300003</td>\n",
       "      <td>12.33</td>\n",
       "      <td>16.400000</td>\n",
       "    </tr>\n",
       "    <tr>\n",
       "      <th>670</th>\n",
       "      <td>32</td>\n",
       "      <td>4.40</td>\n",
       "      <td>109</td>\n",
       "      <td>266.700012</td>\n",
       "      <td>110.000000</td>\n",
       "      <td>11.62</td>\n",
       "      <td>16.299999</td>\n",
       "    </tr>\n",
       "    <tr>\n",
       "      <th>115</th>\n",
       "      <td>36</td>\n",
       "      <td>5.40</td>\n",
       "      <td>89</td>\n",
       "      <td>196.800003</td>\n",
       "      <td>110.000000</td>\n",
       "      <td>12.75</td>\n",
       "      <td>20.000000</td>\n",
       "    </tr>\n",
       "    <tr>\n",
       "      <th>1355</th>\n",
       "      <td>50</td>\n",
       "      <td>3.67</td>\n",
       "      <td>93</td>\n",
       "      <td>302.700012</td>\n",
       "      <td>108.699997</td>\n",
       "      <td>12.03</td>\n",
       "      <td>13.600000</td>\n",
       "    </tr>\n",
       "    <tr>\n",
       "      <th>1821</th>\n",
       "      <td>123</td>\n",
       "      <td>4.16</td>\n",
       "      <td>99</td>\n",
       "      <td>270.399994</td>\n",
       "      <td>108.599998</td>\n",
       "      <td>12.26</td>\n",
       "      <td>15.400000</td>\n",
       "    </tr>\n",
       "    <tr>\n",
       "      <th>...</th>\n",
       "      <td>...</td>\n",
       "      <td>...</td>\n",
       "      <td>...</td>\n",
       "      <td>...</td>\n",
       "      <td>...</td>\n",
       "      <td>...</td>\n",
       "      <td>...</td>\n",
       "    </tr>\n",
       "    <tr>\n",
       "      <th>2252</th>\n",
       "      <td>148</td>\n",
       "      <td>0.00</td>\n",
       "      <td>121</td>\n",
       "      <td>17.600000</td>\n",
       "      <td>17.000000</td>\n",
       "      <td>8.09</td>\n",
       "      <td>10.600000</td>\n",
       "    </tr>\n",
       "    <tr>\n",
       "      <th>2753</th>\n",
       "      <td>134</td>\n",
       "      <td>0.00</td>\n",
       "      <td>86</td>\n",
       "      <td>7.800000</td>\n",
       "      <td>16.000000</td>\n",
       "      <td>8.57</td>\n",
       "      <td>12.900000</td>\n",
       "    </tr>\n",
       "    <tr>\n",
       "      <th>2859</th>\n",
       "      <td>87</td>\n",
       "      <td>0.00</td>\n",
       "      <td>125</td>\n",
       "      <td>58.000000</td>\n",
       "      <td>16.000000</td>\n",
       "      <td>3.38</td>\n",
       "      <td>11.500000</td>\n",
       "    </tr>\n",
       "    <tr>\n",
       "      <th>1986</th>\n",
       "      <td>70</td>\n",
       "      <td>0.27</td>\n",
       "      <td>100</td>\n",
       "      <td>7.900000</td>\n",
       "      <td>15.700000</td>\n",
       "      <td>6.82</td>\n",
       "      <td>12.100000</td>\n",
       "    </tr>\n",
       "    <tr>\n",
       "      <th>1345</th>\n",
       "      <td>98</td>\n",
       "      <td>0.00</td>\n",
       "      <td>0</td>\n",
       "      <td>0.000000</td>\n",
       "      <td>14.000000</td>\n",
       "      <td>7.98</td>\n",
       "      <td>6.800000</td>\n",
       "    </tr>\n",
       "  </tbody>\n",
       "</table>\n",
       "<p>3333 rows × 7 columns</p>\n",
       "</div>"
      ],
      "text/plain": [
       "      가입기간  데이터사용량_GB  월평균전화수_횟수    월평균전화량_분       월평균요금   초과요금     로밍시간_분\n",
       "2122    69       4.43         78  268.799988  111.300003  12.33  16.400000\n",
       "670     32       4.40        109  266.700012  110.000000  11.62  16.299999\n",
       "115     36       5.40         89  196.800003  110.000000  12.75  20.000000\n",
       "1355    50       3.67         93  302.700012  108.699997  12.03  13.600000\n",
       "1821   123       4.16         99  270.399994  108.599998  12.26  15.400000\n",
       "...    ...        ...        ...         ...         ...    ...        ...\n",
       "2252   148       0.00        121   17.600000   17.000000   8.09  10.600000\n",
       "2753   134       0.00         86    7.800000   16.000000   8.57  12.900000\n",
       "2859    87       0.00        125   58.000000   16.000000   3.38  11.500000\n",
       "1986    70       0.27        100    7.900000   15.700000   6.82  12.100000\n",
       "1345    98       0.00          0    0.000000   14.000000   7.98   6.800000\n",
       "\n",
       "[3333 rows x 7 columns]"
      ]
     },
     "execution_count": 25,
     "metadata": {},
     "output_type": "execute_result"
    }
   ],
   "source": [
    "top2=(\n",
    "top2[['가입기간','데이터사용량_GB','월평균전화수_횟수','월평균전화량_분','월평균요금','초과요금','로밍시간_분']]\n",
    "    .sort_values(['월평균요금'],ascending=False)\n",
    ")\n",
    "top2"
   ]
  },
  {
   "cell_type": "markdown",
   "metadata": {},
   "source": [
    "데이터 사용량이 높을 수록 월 평균 요금은 높아지는 걸 확인할 수 있다."
   ]
  },
  {
   "cell_type": "code",
   "execution_count": 26,
   "metadata": {},
   "outputs": [
    {
     "data": {
      "text/plain": [
       "<AxesSubplot:xlabel='데이터사용량_GB', ylabel='월평균요금'>"
      ]
     },
     "execution_count": 26,
     "metadata": {},
     "output_type": "execute_result"
    },
    {
     "data": {
      "image/png": "[encoded data removed]",
      "text/plain": [
       "<Figure size 576x576 with 1 Axes>"
      ]
     },
     "metadata": {
      "needs_background": "light"
     },
     "output_type": "display_data"
    }
   ],
   "source": [
    "#산포도 그려보기 \n",
    "\n",
    "fig,ax= plt.subplots(figsize=(8,8))\n",
    "\n",
    "top2.plot.scatter(\n",
    "    x='데이터사용량_GB',\n",
    "    y='월평균요금',\n",
    "    alpha=1,\n",
    "    ax=ax\n",
    ")"
   ]
  },
  {
   "cell_type": "code",
   "execution_count": 27,
   "metadata": {},
   "outputs": [
    {
     "data": {
      "image/png": "[encoded data removed]",
      "text/plain": [
       "<Figure size 360x360 with 1 Axes>"
      ]
     },
     "metadata": {
      "needs_background": "light"
     },
     "output_type": "display_data"
    }
   ],
   "source": [
    "#상관관계에 회귀선을 추가하고자 SNS사용\n",
    "res = sns.lmplot(\n",
    "    x='데이터사용량_GB',y='월평균요금',data=top2\n",
    ")"
   ]
  },
  {
   "cell_type": "code",
   "execution_count": 28,
   "metadata": {},
   "outputs": [
    {
     "data": {
      "text/html": [
       "<div>\n",
       "<style scoped>\n",
       "    .dataframe tbody tr th:only-of-type {\n",
       "        vertical-align: middle;\n",
       "    }\n",
       "\n",
       "    .dataframe tbody tr th {\n",
       "        vertical-align: top;\n",
       "    }\n",
       "\n",
       "    .dataframe thead th {\n",
       "        text-align: right;\n",
       "    }\n",
       "</style>\n",
       "<table border=\"1\" class=\"dataframe\">\n",
       "  <thead>\n",
       "    <tr style=\"text-align: right;\">\n",
       "      <th></th>\n",
       "      <th>가입기간</th>\n",
       "      <th>데이터사용량_GB</th>\n",
       "      <th>월평균전화수_횟수</th>\n",
       "      <th>월평균요금</th>\n",
       "      <th>월평균전화량_분</th>\n",
       "      <th>초과요금</th>\n",
       "      <th>로밍시간_분</th>\n",
       "    </tr>\n",
       "  </thead>\n",
       "  <tbody>\n",
       "    <tr>\n",
       "      <th>1번째로 많은 사람(가입기간:69)</th>\n",
       "      <td>69</td>\n",
       "      <td>4.43</td>\n",
       "      <td>78</td>\n",
       "      <td>111.300003</td>\n",
       "      <td>268.799988</td>\n",
       "      <td>12.33</td>\n",
       "      <td>16.400000</td>\n",
       "    </tr>\n",
       "    <tr>\n",
       "      <th>2번째로 많은 사람(가입기간:36)</th>\n",
       "      <td>36</td>\n",
       "      <td>5.40</td>\n",
       "      <td>89</td>\n",
       "      <td>110.000000</td>\n",
       "      <td>196.800003</td>\n",
       "      <td>12.75</td>\n",
       "      <td>20.000000</td>\n",
       "    </tr>\n",
       "    <tr>\n",
       "      <th>3번째로 많은 사람(가입기간:32)</th>\n",
       "      <td>32</td>\n",
       "      <td>4.40</td>\n",
       "      <td>109</td>\n",
       "      <td>110.000000</td>\n",
       "      <td>266.700012</td>\n",
       "      <td>11.62</td>\n",
       "      <td>16.299999</td>\n",
       "    </tr>\n",
       "    <tr>\n",
       "      <th>4번째로 많은 사람(가입기간:50)</th>\n",
       "      <td>50</td>\n",
       "      <td>3.67</td>\n",
       "      <td>93</td>\n",
       "      <td>108.699997</td>\n",
       "      <td>302.700012</td>\n",
       "      <td>12.03</td>\n",
       "      <td>13.600000</td>\n",
       "    </tr>\n",
       "    <tr>\n",
       "      <th>5번째로 많은 사람(가입기간:123)</th>\n",
       "      <td>123</td>\n",
       "      <td>4.16</td>\n",
       "      <td>99</td>\n",
       "      <td>108.599998</td>\n",
       "      <td>270.399994</td>\n",
       "      <td>12.26</td>\n",
       "      <td>15.400000</td>\n",
       "    </tr>\n",
       "  </tbody>\n",
       "</table>\n",
       "</div>"
      ],
      "text/plain": [
       "                      가입기간  데이터사용량_GB  월평균전화수_횟수       월평균요금    월평균전화량_분  \\\n",
       "1번째로 많은 사람(가입기간:69)     69       4.43         78  111.300003  268.799988   \n",
       "2번째로 많은 사람(가입기간:36)     36       5.40         89  110.000000  196.800003   \n",
       "3번째로 많은 사람(가입기간:32)     32       4.40        109  110.000000  266.700012   \n",
       "4번째로 많은 사람(가입기간:50)     50       3.67         93  108.699997  302.700012   \n",
       "5번째로 많은 사람(가입기간:123)   123       4.16         99  108.599998  270.399994   \n",
       "\n",
       "                       초과요금     로밍시간_분  \n",
       "1번째로 많은 사람(가입기간:69)   12.33  16.400000  \n",
       "2번째로 많은 사람(가입기간:36)   12.75  20.000000  \n",
       "3번째로 많은 사람(가입기간:32)   11.62  16.299999  \n",
       "4번째로 많은 사람(가입기간:50)   12.03  13.600000  \n",
       "5번째로 많은 사람(가입기간:123)  12.26  15.400000  "
      ]
     },
     "execution_count": 28,
     "metadata": {},
     "output_type": "execute_result"
    }
   ],
   "source": [
    "top2.rename(index={2122:'1번째로 많은 사람(가입기간:69)',115:'2번째로 많은 사람(가입기간:36)',670:'3번째로 많은 사람(가입기간:32)',1355:'4번째로 많은 사람(가입기간:50)',1821:'5번째로 많은 사람(가입기간:123)'},inplace=True)\n",
    "top"
   ]
  },
  {
   "cell_type": "markdown",
   "metadata": {},
   "source": [
    "월 평균 금액으로 나열해봤지만, 조건을 만족하는 사람은 1,3,5번째로 월 평균요금이 많은 사람이 </br>\n",
    "이 세조건을 만족하는 것을 볼 수 있습니다"
   ]
  },
  {
   "cell_type": "code",
   "execution_count": 29,
   "metadata": {},
   "outputs": [
    {
     "data": {
      "text/plain": [
       "1번째로 많은 사람(가입기간:69)      True\n",
       "3번째로 많은 사람(가입기간:32)      True\n",
       "2번째로 많은 사람(가입기간:36)     False\n",
       "4번째로 많은 사람(가입기간:50)     False\n",
       "5번째로 많은 사람(가입기간:123)     True\n",
       "dtype: bool"
      ]
     },
     "execution_count": 29,
     "metadata": {},
     "output_type": "execute_result"
    }
   ],
   "source": [
    "#데이터 사용량이 4gb 이상이고, 월평균 전화량이 250분 이상, 월평균요금이 100 이상인 것만 추출\n",
    "\n",
    "c1 = top2.데이터사용량_GB>4\n",
    "c2 = top2.월평균전화량_분 > 250\n",
    "c3 = top2.월평균요금>100\n",
    "\n",
    "c_final=c1&c2&c3\n",
    "c_final.head()"
   ]
  },
  {
   "cell_type": "markdown",
   "metadata": {},
   "source": [
    "조건에 맞는 사람을 출력을 하게 되면 다음과 같습니다. </br>\n",
    "가입기간이 125일 된 사람도 출력된 것을 알 수 있습니다."
   ]
  },
  {
   "cell_type": "code",
   "execution_count": 30,
   "metadata": {},
   "outputs": [
    {
     "data": {
      "text/html": [
       "<div>\n",
       "<style scoped>\n",
       "    .dataframe tbody tr th:only-of-type {\n",
       "        vertical-align: middle;\n",
       "    }\n",
       "\n",
       "    .dataframe tbody tr th {\n",
       "        vertical-align: top;\n",
       "    }\n",
       "\n",
       "    .dataframe thead th {\n",
       "        text-align: right;\n",
       "    }\n",
       "</style>\n",
       "<table border=\"1\" class=\"dataframe\">\n",
       "  <thead>\n",
       "    <tr style=\"text-align: right;\">\n",
       "      <th></th>\n",
       "      <th>가입기간</th>\n",
       "      <th>데이터사용량_GB</th>\n",
       "      <th>월평균전화수_횟수</th>\n",
       "      <th>월평균전화량_분</th>\n",
       "      <th>월평균요금</th>\n",
       "      <th>초과요금</th>\n",
       "      <th>로밍시간_분</th>\n",
       "    </tr>\n",
       "  </thead>\n",
       "  <tbody>\n",
       "    <tr>\n",
       "      <th>1번째로 많은 사람(가입기간:69)</th>\n",
       "      <td>69</td>\n",
       "      <td>4.43</td>\n",
       "      <td>78</td>\n",
       "      <td>268.799988</td>\n",
       "      <td>111.300003</td>\n",
       "      <td>12.33</td>\n",
       "      <td>16.400000</td>\n",
       "    </tr>\n",
       "    <tr>\n",
       "      <th>3번째로 많은 사람(가입기간:32)</th>\n",
       "      <td>32</td>\n",
       "      <td>4.40</td>\n",
       "      <td>109</td>\n",
       "      <td>266.700012</td>\n",
       "      <td>110.000000</td>\n",
       "      <td>11.62</td>\n",
       "      <td>16.299999</td>\n",
       "    </tr>\n",
       "    <tr>\n",
       "      <th>5번째로 많은 사람(가입기간:123)</th>\n",
       "      <td>123</td>\n",
       "      <td>4.16</td>\n",
       "      <td>99</td>\n",
       "      <td>270.399994</td>\n",
       "      <td>108.599998</td>\n",
       "      <td>12.26</td>\n",
       "      <td>15.400000</td>\n",
       "    </tr>\n",
       "    <tr>\n",
       "      <th>2687</th>\n",
       "      <td>125</td>\n",
       "      <td>4.59</td>\n",
       "      <td>81</td>\n",
       "      <td>260.799988</td>\n",
       "      <td>104.900002</td>\n",
       "      <td>8.19</td>\n",
       "      <td>17.000000</td>\n",
       "    </tr>\n",
       "  </tbody>\n",
       "</table>\n",
       "</div>"
      ],
      "text/plain": [
       "                      가입기간  데이터사용량_GB  월평균전화수_횟수    월평균전화량_분       월평균요금  \\\n",
       "1번째로 많은 사람(가입기간:69)     69       4.43         78  268.799988  111.300003   \n",
       "3번째로 많은 사람(가입기간:32)     32       4.40        109  266.700012  110.000000   \n",
       "5번째로 많은 사람(가입기간:123)   123       4.16         99  270.399994  108.599998   \n",
       "2687                   125       4.59         81  260.799988  104.900002   \n",
       "\n",
       "                       초과요금     로밍시간_분  \n",
       "1번째로 많은 사람(가입기간:69)   12.33  16.400000  \n",
       "3번째로 많은 사람(가입기간:32)   11.62  16.299999  \n",
       "5번째로 많은 사람(가입기간:123)  12.26  15.400000  \n",
       "2687                   8.19  17.000000  "
      ]
     },
     "execution_count": 30,
     "metadata": {},
     "output_type": "execute_result"
    }
   ],
   "source": [
    "top2[c_final].head()"
   ]
  },
  {
   "cell_type": "code",
   "execution_count": null,
   "metadata": {},
   "outputs": [],
   "source": []
  },
  {
   "cell_type": "code",
   "execution_count": null,
   "metadata": {},
   "outputs": [],
   "source": []
  }
 ],
 "metadata": {
  "kernelspec": {
   "display_name": "Python 3",
   "language": "python",
   "name": "python3"
  },
  "language_info": {
   "codemirror_mode": {
    "name": "ipython",
    "version": 3
   },
   "file_extension": ".py",
   "mimetype": "text/x-python",
   "name": "python",
   "nbconvert_exporter": "python",
   "pygments_lexer": "ipython3",
   "version": "3.7.10"
  }
 },
 "nbformat": 4,
 "nbformat_minor": 4
}
